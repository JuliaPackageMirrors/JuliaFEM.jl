{
 "cells": [
  {
   "cell_type": "code",
   "execution_count": 1,
   "metadata": {
    "collapsed": false
   },
   "outputs": [],
   "source": [
    "using ForwardDiff\n",
    "#using PyPlot\n",
    "using JuliaFEM\n",
    "\n",
    "using JuliaFEM.Core: Seg2, Quad4, Hex8, get_connectivity,\n",
    "                     assemble, Elasticity\n",
    "\n",
    "using JuliaFEM.Core: get_integration_points"
   ]
  },
  {
   "cell_type": "code",
   "execution_count": 7,
   "metadata": {
    "collapsed": false
   },
   "outputs": [
    {
     "data": {
      "text/plain": [
       "JuliaFEM.Core.Field{JuliaFEM.Core.Discrete,JuliaFEM.Core.Constant,JuliaFEM.Core.TimeInvariant}(4x2 Array{Float64,2}:\n",
       " 1.0  1.0\n",
       " 0.0  0.0\n",
       " 0.0  0.0\n",
       " 0.0  0.0)"
      ]
     },
     "execution_count": 7,
     "metadata": {},
     "output_type": "execute_result"
    }
   ],
   "source": [
    "nodes = Dict{Int64, Vector{Float64}}(\n",
    "    1 => [0.0, 0.0],\n",
    "    2 => [1.0, 0.0],\n",
    "    3 => [1.0, 1.0],\n",
    "    4 => [0.0, 1.0])\n",
    "\n",
    "function set_geometry!(element, nodes)\n",
    "    element[\"geometry\"] = Vector{Float64}[nodes[i] for i in get_connectivity(element)]\n",
    "end\n",
    "element1 = Quad4([1, 2, 3, 4])\n",
    "set_geometry!(element1, nodes)\n",
    "element1[\"youngs modulus\"] = 9000.0\n",
    "element1[\"poissons ratio\"] = 0.25\n",
    "element1[\"displacement\"] = [[1.0 1.0]\n",
    "    [0.0 0.0]\n",
    "    [0.0 0.0]\n",
    "    [0.0 0.0]]\n",
    "\n",
    "free_dofs = Int64[3, 5, 6, 8]\n",
    "\n",
    "time = 0.0\n",
    "\n",
    "element1(\"displacement\", time)"
   ]
  },
  {
   "cell_type": "code",
   "execution_count": 8,
   "metadata": {
    "collapsed": false
   },
   "outputs": [
    {
     "ename": "LoadError",
     "evalue": "LoadError: MethodError: `reshape` has no method matching reshape(::JuliaFEM.Core.Field{JuliaFEM.Core.Discrete,JuliaFEM.Core.Constant,JuliaFEM.Core.TimeInvariant}, ::Int64, ::Int64)\nClosest candidates are:\n  reshape(!Matched::AbstractArray{T,N}, ::Int64...)\nwhile loading In[8], in expression starting on line 7",
     "output_type": "error",
     "traceback": [
      "LoadError: MethodError: `reshape` has no method matching reshape(::JuliaFEM.Core.Field{JuliaFEM.Core.Discrete,JuliaFEM.Core.Constant,JuliaFEM.Core.TimeInvariant}, ::Int64, ::Int64)\nClosest candidates are:\n  reshape(!Matched::AbstractArray{T,N}, ::Int64...)\nwhile loading In[8], in expression starting on line 7",
      "",
      " [inlined code] from In[8]:10",
      " in anonymous at no file:0"
     ]
    }
   ],
   "source": [
    "time = 0.0\n",
    "\n",
    "u_max = 0.1\n",
    "dim = 2\n",
    "nnodes = 4\n",
    "\n",
    "for element in [element1]\n",
    "    \n",
    "    u = element1(\"displacement\", time)\n",
    "    u = reshape(u, dim, nnodes)\n",
    "    u = Field([u[:,i] for i=1:nnodes])\n",
    "    \n",
    "    for ip in get_integration_points(element)\n",
    "\n",
    "        grad = element(ip, time, Val{:grad})\n",
    "        gradu = grad*u\n",
    "\n",
    "        # kinematics\n",
    "        #F = I + gradu\n",
    "        #E = 1/2*(F'*F - I)\n",
    "        E = 1/2*(gradu + gradu') \n",
    "        ee = zeros(4,4)\n",
    "        for idx=1:4\n",
    "            ee[:, 1] = E[idx]\n",
    "        end\n",
    "        println(ee)\n",
    "    end\n",
    "  \n",
    "end"
   ]
  },
  {
   "cell_type": "code",
   "execution_count": 30,
   "metadata": {
    "collapsed": false
   },
   "outputs": [
    {
     "data": {
      "text/plain": [
       "1x4 Array{Float64,2}:\n",
       " 0.0  0.0  0.0  0.0"
      ]
     },
     "execution_count": 30,
     "metadata": {},
     "output_type": "execute_result"
    }
   ],
   "source": [
    "ii = zeros(4,4)\n",
    "ii[1, :]"
   ]
  },
  {
   "cell_type": "code",
   "execution_count": 3,
   "metadata": {
    "collapsed": false
   },
   "outputs": [
    {
     "data": {
      "text/plain": [
       "JuliaFEM.Core.Elasticity(:continuum,true,false)"
      ]
     },
     "execution_count": 3,
     "metadata": {},
     "output_type": "execute_result"
    }
   ],
   "source": [
    "function assemble(problem::Problem{Elasticity}, element::Element, time::Real, ::Type{Val{:forwarddiff}})\n",
    "\n",
    "    dim = get_unknown_field_dimension(problem)\n",
    "    nnodes = size(element, 2)\n",
    "\n",
    "    function get_residual_vector(u::Vector)\n",
    "        u = reshape(u, dim, nnodes)\n",
    "        u = Field([u[:,i] for i=1:nnodes])\n",
    "        r = zeros(dim, nnodes)\n",
    "\n",
    "        for ip in get_integration_points(element)\n",
    "\n",
    "            JT = transpose(get_jacobian(element, ip, time))\n",
    "            n, m = size(JT)\n",
    "            if n == m\n",
    "                w = ip.weight*det(JT)\n",
    "            elseif m == 1\n",
    "                w = ip.weight*norm(JT)\n",
    "            elseif m == 2\n",
    "                w = ip.weight*norm(cross(JT[:,1], JT[:,2]))\n",
    "            else\n",
    "                error(\"jacobian $JT\")\n",
    "            end\n",
    "\n",
    "            # calculate internal forces\n",
    "            if haskey(element, \"youngs modulus\") && haskey(element, \"poissons ratio\")\n",
    "                grad = element(ip, time, Val{:grad})\n",
    "                gradu = grad*u\n",
    "\n",
    "                # kinematics\n",
    "                F = I + gradu\n",
    "                E = 1/2*(F'*F - I)\n",
    "\n",
    "                # material\n",
    "                young = element(\"youngs modulus\", ip, time)\n",
    "                poisson = element(\"poissons ratio\", ip, time)\n",
    "                mu = young/(2*(1+poisson))\n",
    "                lambda = young*poisson/((1+poisson)*(1-2*poisson))\n",
    "                if problem.properties.formulation == :plane_stress\n",
    "                    lambda = 2*lambda*mu/(lambda + 2*mu)  # <- correction for plane stress\n",
    "                end\n",
    "\n",
    "                # stress\n",
    "                S = lambda*trace(E)*I + 2*mu*E\n",
    "\n",
    "                r += w*F*S*grad\n",
    "            end\n",
    "\n",
    "            # calculate external forces - volume load\n",
    "            if haskey(element, \"displacement load\")\n",
    "                basis = element(ip, time)\n",
    "                b = element(\"displacement load\", ip, time)\n",
    "                r -= w*b*basis\n",
    "            end\n",
    "\n",
    "            # external forces - surface traction force\n",
    "            if haskey(element, \"displacement traction force\")\n",
    "                basis = element(ip, time)\n",
    "                T = element(\"displacement traction force\", ip, time)\n",
    "                r -= w*T*basis\n",
    "            end\n",
    "\n",
    "        end\n",
    "\n",
    "        return vec(r)\n",
    "\n",
    "    end\n",
    "\n",
    "    field = element(\"displacement\", time)\n",
    "    Kt, allresults = ForwardDiff.jacobian(get_residual_vector, vec(field),\n",
    "                     AllResults, cache=autodiffcache)\n",
    "    f = -ForwardDiff.value(allresults)\n",
    "    return Kt, f\n",
    "end"
   ]
  },
  {
   "cell_type": "code",
   "execution_count": 46,
   "metadata": {
    "collapsed": false
   },
   "outputs": [
    {
     "name": "stderr",
     "output_type": "stream",
     "text": [
      "INFO: Starting nonlinear iteration #1\n",
      "INFO: solving linear system of 2 problems.\n",
      "INFO: UMFPACK: solved in 0.0 seconds. norm = 0.003993254146735212\n",
      "INFO: block: incremental formulation, adding increment to solution vector\n",
      "INFO: bc: total formulation, replacing solution vector with new values\n",
      "INFO: Details for problem block\n",
      "INFO: Norm: 0.003993254146735212\n",
      "INFO: Norm change: 0.003993254146735212\n",
      "INFO: Has converged? false\n",
      "INFO: Starting nonlinear iteration #2\n",
      "INFO: solving linear system of 2 problems.\n",
      "INFO: UMFPACK: solved in 0.0 seconds. norm = 5.263468075252658e-6\n",
      "INFO: block: incremental formulation, adding increment to solution vector\n",
      "INFO: bc: total formulation, replacing solution vector with new values\n",
      "INFO: Details for problem block\n",
      "INFO: Norm: 0.0039942305163527415\n",
      "INFO: Norm change: 5.263468075252619e-6\n",
      "INFO: Has converged? true\n",
      "INFO: Converged in 2 iterations.\n",
      "INFO: displacement at tip: [-0.0010737519668183434\n",
      " 0.0024687795720146296]\n"
     ]
    }
   ],
   "source": [
    "using JuliaFEM\n",
    "\n",
    "body = Problem(Elasticity, \"block\", 2)\n",
    "body.properties.formulation = :plane_stress\n",
    "nodes = Dict{Int64, Vector{Float64}}(\n",
    "    1 => [0.0, 0.0],\n",
    "    2 => [1.0, 0.0],\n",
    "    3 => [1.0, 1.0],\n",
    "    4 => [0.0, 1.0])\n",
    "\n",
    "element = Element(Quad4, [1,2,3,4])\n",
    "update!(element, \"geometry\", nodes)\n",
    "element[\"youngs modulus\"] = 9000.0\n",
    "element[\"poissons ratio\"] = 1/3\n",
    "\n",
    "# dirichlet boundary conditions\n",
    "boundary2 = Element(Seg2, [2,3])\n",
    "update!(boundary2, \"geometry\", nodes)\n",
    "boundary2[\"displacement traction force 2\"] = [10.0, 0.0]\n",
    "\n",
    "push!(body, element)\n",
    "push!(body, boundary2)\n",
    "\n",
    "\n",
    "# dirichlet boundary conditions\n",
    "boundary_problem_1 = Problem(Dirichlet, \"bc\", 2, \"displacement\")\n",
    "boundary = Element(Seg2, [1, 4])\n",
    "update!(boundary, \"geometry\", nodes)\n",
    "boundary[\"displacement 1\"] = 0.0\n",
    "boundary[\"displacement 2\"] = 0.0\n",
    "push!(boundary_problem_1, boundary)\n",
    "\n",
    "\n",
    "solver = Solver(\"solve block problem\")\n",
    "\n",
    "push!(solver, body, boundary_problem_1)\n",
    "call(solver)\n",
    "\n",
    "disp = element(\"displacement\", [1.0, 1.0], 0.0)\n",
    "info(\"displacement at tip: $disp\")"
   ]
  },
  {
   "cell_type": "code",
   "execution_count": 44,
   "metadata": {
    "collapsed": false
   },
   "outputs": [
    {
     "name": "stdout",
     "output_type": "stream",
     "text": [
      "Array(Float64,(0,0)) 0x0 Array{Float64,2}\n"
     ]
    }
   ],
   "source": [
    "dump(full(boundary_problem_2.assembly.C2))"
   ]
  },
  {
   "cell_type": "code",
   "execution_count": null,
   "metadata": {
    "collapsed": true
   },
   "outputs": [],
   "source": []
  }
 ],
 "metadata": {
  "kernelspec": {
   "display_name": "Julia 0.4.1",
   "language": "julia",
   "name": "julia-0.4"
  },
  "language_info": {
   "file_extension": ".jl",
   "mimetype": "application/julia",
   "name": "julia",
   "version": "0.4.1"
  }
 },
 "nbformat": 4,
 "nbformat_minor": 0
}
